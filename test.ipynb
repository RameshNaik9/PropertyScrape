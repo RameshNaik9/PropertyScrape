{
 "cells": [
  {
   "cell_type": "code",
   "execution_count": 2,
   "metadata": {},
   "outputs": [
    {
     "name": "stdout",
     "output_type": "stream",
     "text": [
      "          id  bedrooms  bathrooms  numberOfImages  numberOfFloorplans  \\\n",
      "0  144991514         4        2.0              17                   1   \n",
      "1  140456918         4        3.0              23                   1   \n",
      "2  139676243         3        2.0              25                   1   \n",
      "3  145245140         5        NaN              14                   1   \n",
      "4  143273531         4        2.0              30                   1   \n",
      "\n",
      "   numberOfVirtualTours                                            summary  \\\n",
      "0                     0  Modern detached house located in this sought a...   \n",
      "1                     0  This 4/5 bedroom detached property is well-pre...   \n",
      "2                     0  UNDER NHBC WARRANTY UNTIL 2027 - A superb, bea...   \n",
      "3                     0  Guide Price £220,000 For sale by unconditional...   \n",
      "4                     1  ***NEW TO THE MARKET*** I am more than pleased...   \n",
      "\n",
      "                                      displayAddress countryCode  \\\n",
      "0            Davenham Walk, Telford, Shropshire, TF3          GB   \n",
      "1  Corndean Meadow, Newdale, Telford, Shropshire,...          GB   \n",
      "2               Booth Crescent, Lawley, Telford, TF3          GB   \n",
      "3  Hopes Edge, Hopes Edge, Presthope, Much Wenloc...          GB   \n",
      "4                         Watts Drive, Shifnal, TF11          GB   \n",
      "\n",
      "  propertySubType  ...  potential_energy_eff  my_dist  enquiryAddedTimestamp  \\\n",
      "0        Detached  ...                  85.0      NaN                    NaN   \n",
      "1        Detached  ...                  82.0      NaN                    NaN   \n",
      "2        Terraced  ...                   NaN      2.2                    NaN   \n",
      "3        Bungalow  ...                  14.0      NaN                    NaN   \n",
      "4        Detached  ...                   NaN      NaN                    NaN   \n",
      "\n",
      "  enquiryCalledTimestamp  tenure_type  years_on_lease  published  archived  \\\n",
      "0                    NaN     FREEHOLD             0.0      False      True   \n",
      "1                    NaN     FREEHOLD             0.0      False      True   \n",
      "2                    NaN     FREEHOLD             NaN      False      True   \n",
      "3                    NaN     FREEHOLD             NaN      False      True   \n",
      "4                    NaN     FREEHOLD             NaN      False      True   \n",
      "\n",
      "   status            status_timestamp  \n",
      "0  Listed  2024-08-21 08:17:49.013942  \n",
      "1  Listed   2024-08-22 01:37:14.12405  \n",
      "2  Listed  2024-08-20 00:40:28.204414  \n",
      "3  Listed    2024-08-20 00:40:27.7375  \n",
      "4  Listed  2024-08-20 00:40:27.345559  \n",
      "\n",
      "[5 rows x 99 columns]\n"
     ]
    }
   ],
   "source": [
    "import pandas as pd\n",
    "example_df = pd.read_csv(\"rm_sales.csv\")\n",
    "print(example_df.head())"
   ]
  },
  {
   "cell_type": "code",
   "execution_count": null,
   "metadata": {},
   "outputs": [],
   "source": []
  }
 ],
 "metadata": {
  "kernelspec": {
   "display_name": "Selenium_python-s49cncQP",
   "language": "python",
   "name": "python3"
  },
  "language_info": {
   "codemirror_mode": {
    "name": "ipython",
    "version": 3
   },
   "file_extension": ".py",
   "mimetype": "text/x-python",
   "name": "python",
   "nbconvert_exporter": "python",
   "pygments_lexer": "ipython3",
   "version": "3.12.4"
  }
 },
 "nbformat": 4,
 "nbformat_minor": 2
}
